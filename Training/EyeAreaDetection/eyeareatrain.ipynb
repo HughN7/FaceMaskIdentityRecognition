{
  "cells": [
    {
      "cell_type": "code",
      "execution_count": null,
      "metadata": {
        "id": "KsqCPpbWklyq"
      },
      "outputs": [],
      "source": [
        "#Using imageAI yolov3 api wrapper\n",
        "!pip3 install imageai --upgrade"
      ]
    },
    {
      "cell_type": "code",
      "execution_count": null,
      "metadata": {
        "id": "CxmH9saxmRBd"
      },
      "outputs": [],
      "source": [
        "!wget https://github.com/OlafenwaMoses/ImageAI/releases/download/essential-v4/pretrained-yolov3.h5"
      ]
    },
    {
      "cell_type": "code",
      "execution_count": null,
      "metadata": {},
      "outputs": [],
      "source": [
        "from google.colab import drive\n",
        "drive.mount('/content/drive')"
      ]
    },
    {
      "cell_type": "code",
      "execution_count": null,
      "metadata": {
        "id": "zk_iL_JTlNtB"
      },
      "outputs": [],
      "source": [
        "from imageai.Detection.Custom import DetectionModelTrainer\n",
        "import tensorflow as tf\n",
        "import datetime, os"
      ]
    },
    {
      "cell_type": "code",
      "execution_count": null,
      "metadata": {
        "id": "u_rIFSKmmkqS"
      },
      "outputs": [],
      "source": [
        "dataDirectory=\"/content/drive/MyDrive/EyeAreaDetection/eyeareadataset\"\n",
        "objectNames = [\"0\"]\n",
        "numberOfEpochs = 100\n",
        "batchSize = 8\n",
        "pretrainedModel = \"pretrained-yolov3.h5\""
      ]
    },
    {
      "cell_type": "code",
      "execution_count": null,
      "metadata": {
        "id": "3Xq1SDoIltQL"
      },
      "outputs": [],
      "source": [
        "trainer = DetectionModelTrainer()\n",
        "trainer.setModelTypeAsYOLOv3()\n",
        "trainer.setDataDirectory(data_directory=dataDirectory)\n",
        "trainer.setTrainConfig(object_names_array=objectNames, batch_size=batchSize, num_experiments=numberOfEpochs, train_from_pretrained_model=pretrainedModel)"
      ]
    },
    {
      "cell_type": "code",
      "execution_count": null,
      "metadata": {},
      "outputs": [],
      "source": [
        "# Load the TensorBoard notebook extension\n",
        "%load_ext tensorboard\n",
        "%tensorboard --logdir /content/drive/MyDrive/FaceTopHalfDetection/tophalfdatasettiny/logs"
      ]
    },
    {
      "cell_type": "code",
      "execution_count": null,
      "metadata": {},
      "outputs": [],
      "source": [
        "trainer.trainModel()"
      ]
    }
  ],
  "metadata": {
    "accelerator": "GPU",
    "colab": {
      "name": "facemasksdetection",
      "provenance": []
    },
    "kernelspec": {
      "display_name": "Python 3",
      "name": "python3"
    },
    "language_info": {
      "name": "python"
    }
  },
  "nbformat": 4,
  "nbformat_minor": 0
}
