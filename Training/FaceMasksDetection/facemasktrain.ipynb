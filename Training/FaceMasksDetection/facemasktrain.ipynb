{
  "nbformat": 4,
  "nbformat_minor": 0,
  "metadata": {
    "colab": {
      "name": "facemasksdetection",
      "provenance": []
    },
    "kernelspec": {
      "name": "python3",
      "display_name": "Python 3"
    },
    "language_info": {
      "name": "python"
    },
    "accelerator": "GPU"
  },
  "cells": [
    {
      "cell_type": "code",
      "metadata": {
        "id": "KsqCPpbWklyq"
      },
      "source": [
        "#Using imageAI yolov3 api wrapper\n",
        "!pip3 install imageai --upgrade"
      ],
      "execution_count": null,
      "outputs": []
    },
    {
      "cell_type": "code",
      "metadata": {
        "id": "CxmH9saxmRBd"
      },
      "source": [
        "!wget https://github.com/OlafenwaMoses/ImageAI/releases/download/essential-v4/pretrained-yolov3.h5"
      ],
      "execution_count": null,
      "outputs": []
    },
    {
      "cell_type": "code",
      "metadata": {
        "id": "zk_iL_JTlNtB"
      },
      "source": [
        "from imageai.Detection.Custom import DetectionModelTrainer"
      ],
      "execution_count": null,
      "outputs": []
    },
    {
      "cell_type": "code",
      "metadata": {
        "id": "u_rIFSKmmkqS"
      },
      "source": [
        "dataDirectory=\"/content/drive/MyDrive/FaceMasksDetection/facemaskdataset\"\n",
        "objectNames = [\"Mask\",\"NoMask\"]\n",
        "numberOfEpochs = 25"
      ],
      "execution_count": null,
      "outputs": []
    },
    {
      "cell_type": "code",
      "metadata": {
        "id": "3Xq1SDoIltQL"
      },
      "source": [
        "trainer = DetectionModelTrainer()\n",
        "trainer.setModelTypeAsYOLOv3()\n",
        "trainer.setDataDirectory(data_directory=dataDirectory)\n",
        "trainer.setTrainConfig(object_names_array=[\"hololens\"], batch_size=4, num_experiments=200, train_from_pretrained_model=\"pretrained-yolov3.h5\")\n",
        "trainer.trainModel()"
      ],
      "execution_count": null,
      "outputs": []
    }
  ]
}